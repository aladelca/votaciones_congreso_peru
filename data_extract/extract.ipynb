{
 "cells": [
  {
   "cell_type": "code",
   "execution_count": 1,
   "metadata": {},
   "outputs": [],
   "source": [
    "import pandas as pd\n",
    "import numpy as np\n",
    "import os\n",
    "import glob\n",
    "import pytesseract\n",
    "from PIL import Image"
   ]
  },
  {
   "cell_type": "code",
   "execution_count": 2,
   "metadata": {},
   "outputs": [
    {
     "data": {
      "text/plain": [
       "'/Users/aladelca/Library/CloudStorage/OneDrive-McGillUniversity/portfolio/analisis_congreso/votaciones_congreso_peru'"
      ]
     },
     "execution_count": 2,
     "metadata": {},
     "output_type": "execute_result"
    }
   ],
   "source": [
    "os.chdir('..')\n",
    "os.getcwd()"
   ]
  },
  {
   "cell_type": "code",
   "execution_count": 3,
   "metadata": {},
   "outputs": [],
   "source": [
    "pdf_path = glob.glob('documents/*.pdf')[0]"
   ]
  },
  {
   "cell_type": "code",
   "execution_count": 9,
   "metadata": {},
   "outputs": [],
   "source": [
    "import pdfplumber\n",
    "\n",
    "all_tables = []\n",
    "\n",
    "# Abrir el archivo PDF\n",
    "with pdfplumber.open(pdf_path) as pdf:\n",
    "    # Iterar sobre cada página\n",
    "    for page_number, page in enumerate(pdf.pages):\n",
    "        # Extraer tablas de la página\n",
    "        tables = page.extract_tables()\n",
    "        for table in tables:\n",
    "            # Convertir la tabla a un DataFrame de pandas\n",
    "            df = pd.DataFrame(table[1:], columns=table[0])\n",
    "            # Limpiar la tabla (ejemplo: eliminar filas con valores nulos)\n",
    "            df = df.dropna(how='all')\n",
    "            # Agregar la tabla a la lista\n",
    "            all_tables.append(df)"
   ]
  },
  {
   "cell_type": "code",
   "execution_count": 5,
   "metadata": {},
   "outputs": [],
   "source": [
    "import io\n",
    "import pdfplumber\n",
    "pdf = pdfplumber.open(pdf_path)\n",
    "image = pdf.pages[0].to_image(resolution=300)"
   ]
  },
  {
   "cell_type": "code",
   "execution_count": 13,
   "metadata": {},
   "outputs": [
    {
     "data": {
      "text/plain": [
       "PIL.Image.Image"
      ]
     },
     "execution_count": 13,
     "metadata": {},
     "output_type": "execute_result"
    }
   ],
   "source": [
    "type(image.original)"
   ]
  }
 ],
 "metadata": {
  "kernelspec": {
   "display_name": "Python 3",
   "language": "python",
   "name": "python3"
  },
  "language_info": {
   "codemirror_mode": {
    "name": "ipython",
    "version": 3
   },
   "file_extension": ".py",
   "mimetype": "text/x-python",
   "name": "python",
   "nbconvert_exporter": "python",
   "pygments_lexer": "ipython3",
   "version": "3.12.2"
  }
 },
 "nbformat": 4,
 "nbformat_minor": 2
}
